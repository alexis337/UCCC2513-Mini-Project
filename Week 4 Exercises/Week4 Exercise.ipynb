{
 "cells": [
  {
   "cell_type": "code",
   "execution_count": 2,
   "id": "e019ed07",
   "metadata": {},
   "outputs": [],
   "source": [
    "import sys\n",
    "assert sys.version_info >= (3, 7)\n",
    "\n",
    "import numpy as np\n",
    "import cv2 as cv\n",
    "from util_func import show_img"
   ]
  },
  {
   "cell_type": "markdown",
   "id": "0bfe1023",
   "metadata": {},
   "source": [
    "## Exercise 1\n"
   ]
  },
  {
   "cell_type": "code",
   "execution_count": 7,
   "id": "a856ac38",
   "metadata": {},
   "outputs": [],
   "source": [
    "#set height & width\n",
    "h = 300\n",
    "w = 300\n",
    "\n",
    "noise_color_img = np.random.randint(0, high=256, size=(h, w, 3), dtype=np.uint8)\n",
    "grayscale_img = np.random.randint(0, high=256, size=(h, w), dtype=np.uint8)\n",
    "\n",
    "color_image = cv.cvtColor(noise_color_img, cv.COLOR_BGR2RGB)\n",
    "grayscale_image = cv.cvtColor(grayscale_img, cv.COLOR_GRAY2BGR)\n",
    "\n",
    "cv.imshow(\"Color image\", color_image)\n",
    "cv.imshow(\"Grayscale image\", grayscale_image)\n",
    "cv.waitKey(0)\n",
    "cv.destroyAllWindows()"
   ]
  },
  {
   "cell_type": "markdown",
   "id": "0ac49fb1",
   "metadata": {},
   "source": [
    "## Exercise 2"
   ]
  },
  {
   "cell_type": "code",
   "execution_count": 28,
   "id": "5a3989c3",
   "metadata": {},
   "outputs": [],
   "source": [
    "def crop_grid(img, num_horizontal_grid, num_vertical_grid, line_color):\n",
    "    image = cv.imread(img)\n",
    "    img_copy = image.copy()\n",
    "\n",
    "\n",
    "    height, width = image.shape[:2]\n",
    "\n",
    "    # M and N are basically number of pixels per patch\n",
    "    M, N = int(height / num_vertical_grid), int(width / num_horizontal_grid)\n",
    "\n",
    "    x1, y1 = 0, 0\n",
    "\n",
    "    tiles = []\n",
    "    for y in range(0, height, M):\n",
    "        for x in range(0, width, N):\n",
    "\n",
    "            y1 = y + M\n",
    "            x1 = x + N\n",
    "\n",
    "            if x1>=width and y1>=height:\n",
    "                x1 = width-1\n",
    "                y1 = height-1\n",
    "                cv.rectangle(img_copy, (x,y), (x1, y1), line_color, 1)                \n",
    "                tile = image[y:height, x:width]\n",
    "                tiles.append(tile)\n",
    "\n",
    "            elif y1>=height:\n",
    "                y1 = height-1\n",
    "                cv.rectangle(img_copy, (x, y), (x1, y1), line_color, 1)\n",
    "                tile = image[y:height, x:x1]\n",
    "                tiles.append(tile)\n",
    "                \n",
    "            elif x1>=width:\n",
    "                x1 = width-1\n",
    "                cv.rectangle(img_copy, (x, y), (x1, y1), line_color, 1)\n",
    "                tile = image[y:y1, x:width]\n",
    "                tiles.append(tile)\n",
    "\n",
    "            else:\n",
    "                cv.rectangle(img_copy, (x, y), (x1, y1), line_color, 1)\n",
    "                tile = image[y:y1, x:x1]\n",
    "                tiles.append(tile)\n",
    "\n",
    "    show_img(\"crop\", img_copy)"
   ]
  },
  {
   "cell_type": "code",
   "execution_count": 29,
   "id": "b4084d2d",
   "metadata": {},
   "outputs": [],
   "source": [
    "crop_grid('images/dog.jfif', 3, 3, (0, 255, 0))"
   ]
  },
  {
   "cell_type": "markdown",
   "id": "305fd43d",
   "metadata": {},
   "source": [
    "## Exercise 3"
   ]
  },
  {
   "cell_type": "code",
   "execution_count": 35,
   "id": "568e60f6",
   "metadata": {},
   "outputs": [],
   "source": [
    "img = cv.imread(\"images/lena.jfif\")\n",
    "\n",
    "img2 = cv.imread(\"images/coins.jfif\")\n",
    "\n",
    "for i in range(11):\n",
    "    #resize img2\n",
    "    alpha = i/10\n",
    "    h, w = img.shape[:2]\n",
    "    img2 = cv.resize(img2, (w, h))\n",
    "\n",
    "    #blending\n",
    "    res = cv.addWeighted(img, alpha, img2, 1-alpha, 0)  #f(x)-img | h(x)-img2\n",
    "\n",
    "    cv.imshow(\"blending\", res)\n",
    "    cv.waitKey(300)\n",
    "\n",
    "cv.waitKey(0)\n",
    "cv.destroyAllWindows()"
   ]
  },
  {
   "cell_type": "markdown",
   "id": "35ce6910",
   "metadata": {},
   "source": [
    "## Exercise 4"
   ]
  },
  {
   "cell_type": "code",
   "execution_count": 33,
   "id": "64ad4172",
   "metadata": {},
   "outputs": [],
   "source": [
    "background = cv.imread(\"images/travel_hd.jpg\")\n",
    "watermark = cv.imread(\"images/watermark.png\")\n",
    "\n",
    "#set alpha value\n",
    "alpha = 0.7\n",
    "\n",
    "#resize\n",
    "background = cv.resize(background, None, fx = 0.1, fy = 0.1)\n",
    "watermark = cv.resize(watermark, None, fx = 0.5, fy = 0.5)\n",
    "\n",
    "#get background and watermark height and width\n",
    "bh, bw = background.shape[:2]\n",
    "h, w = watermark.shape[:2]\n",
    "\n",
    "#create black background with the same size as background\n",
    "blank_bg = np.zeros_like(background, np.uint8)\n",
    "blank_bg[bh-h:bh, :w] = watermark #place watermark at bottom left\n",
    "mask = blank_bg.astype(bool) #convert all black(zero) pixels to false\n",
    "\n",
    "#blend only masks with true value\n",
    "background[mask] = cv.addWeighted(background, alpha, blank_bg, 1-alpha, 0)[mask]\n",
    "\n",
    "cv.imshow('background with watermark',background)\n",
    "cv.waitKey(0)\n",
    "cv.destroyAllWindows()"
   ]
  }
 ],
 "metadata": {
  "kernelspec": {
   "display_name": "Python 3 (ipykernel)",
   "language": "python",
   "name": "python3"
  },
  "language_info": {
   "codemirror_mode": {
    "name": "ipython",
    "version": 3
   },
   "file_extension": ".py",
   "mimetype": "text/x-python",
   "name": "python",
   "nbconvert_exporter": "python",
   "pygments_lexer": "ipython3",
   "version": "3.9.12"
  }
 },
 "nbformat": 4,
 "nbformat_minor": 5
}
