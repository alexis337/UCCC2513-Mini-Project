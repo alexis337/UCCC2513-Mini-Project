{
 "cells": [
  {
   "cell_type": "code",
   "execution_count": 2,
   "id": "db34e750",
   "metadata": {},
   "outputs": [],
   "source": [
    "import sys\n",
    "assert sys.version_info >= (3, 7)\n",
    "\n",
    "import numpy as np\n",
    "import cv2 as cv\n",
    "from util_func import *\n",
    "import scipy"
   ]
  },
  {
   "cell_type": "markdown",
   "id": "11688309",
   "metadata": {},
   "source": [
    "## Exercise 1"
   ]
  },
  {
   "cell_type": "code",
   "execution_count": 39,
   "id": "c6d5bba7",
   "metadata": {},
   "outputs": [],
   "source": [
    "#modify transformation matrix\n",
    "img = cv.imread(\"images/lena.jfif\")\n",
    "\n",
    "h, w = img.shape[:2]\n",
    "yc, xc = h //2, w //2\n",
    "angle = -45 #positive -> rotate counterclockwise\n",
    "\n",
    "#get transformaton matrix\n",
    "M = cv.getRotationMatrix2D((xc, yc), angle, 1)\n",
    "\n",
    "#M = |cos(theta) -sin(theta) tx|\n",
    "#    |sin(theta) cos(theta)  ty|\n",
    "cosine = abs(M[0, 0])\n",
    "sine = abs(M[0, 1])\n",
    "\n",
    "#x' = ax + by [a=>scalling component in x-direction | b=> rotation comp in x-direction]\n",
    "#y' = cx + dy \n",
    "new_w = int((h * sine) + (w * cosine)) # h*sine => anount of distance extends vertically | w*cosine => horizontally | sum to get total width\n",
    "new_h = int((h * cosine) + (w * sine)) # h*cosine => vertical | w*sine => horizontal\n",
    "\n",
    "M[0, 2] += (new_w / 2) - xc #move img back to center\n",
    "M[1, 2] += (new_h / 2) - yc\n",
    "\n",
    "dst = cv.warpAffine(img, M, (new_w, new_h))\n",
    "\n",
    "show_img(\"rotation\", dst)"
   ]
  },
  {
   "cell_type": "code",
   "execution_count": 34,
   "id": "2d7b584a",
   "metadata": {},
   "outputs": [
    {
     "name": "stdout",
     "output_type": "stream",
     "text": [
      "Collecting imutils\n",
      "  Downloading imutils-0.5.4.tar.gz (17 kB)\n",
      "Building wheels for collected packages: imutils\n",
      "  Building wheel for imutils (setup.py): started\n",
      "  Building wheel for imutils (setup.py): finished with status 'done'\n",
      "  Created wheel for imutils: filename=imutils-0.5.4-py3-none-any.whl size=25872 sha256=1968b355f30b158133d5741925514fdc2817af897c58ab8d545992c180d97aa3\n",
      "  Stored in directory: c:\\users\\user\\appdata\\local\\pip\\cache\\wheels\\4b\\a5\\2d\\4a070a801d3a3d93f033d3ee9728f470f514826e89952df3ea\n",
      "Successfully built imutils\n",
      "Installing collected packages: imutils\n",
      "Successfully installed imutils-0.5.4\n"
     ]
    }
   ],
   "source": [
    "# use imutils\n",
    "!pip install imutils"
   ]
  },
  {
   "cell_type": "code",
   "execution_count": 38,
   "id": "a6f106a5",
   "metadata": {},
   "outputs": [],
   "source": [
    "import imutils\n",
    "img = cv.imread(\"images/lena.jfif\")\n",
    "rotated_image = imutils.rotate_bound(img, angle=45)\n",
    "show_img(\"rotation\", rotated_image)"
   ]
  },
  {
   "cell_type": "markdown",
   "id": "adf4361c",
   "metadata": {},
   "source": [
    "## Exercise 2"
   ]
  },
  {
   "cell_type": "code",
   "execution_count": 29,
   "id": "a6fc5613",
   "metadata": {},
   "outputs": [],
   "source": [
    "bee_img = cv.imread(\"images/native-bee.png\")\n",
    "flower_img = cv.imread(\"images/flower.jfif\")\n",
    "\n",
    "# Define the position to place the flower in the bee image\n",
    "x_pos = 5 \n",
    "y_pos = 5  \n",
    "\n",
    "flower_height, flower_width = flower_img.shape[:2]\n",
    "\n",
    "# Convert flower image to grayscale\n",
    "gray_flower = cv.cvtColor(flower_img, cv.COLOR_BGR2GRAY)\n",
    "\n",
    "# Threshold the grayscale flower image to create a mask\n",
    "mask = cv.threshold(gray_flower, 70, 255, cv.THRESH_BINARY)[1]\n",
    "\n",
    "# Invert the mask to keep only non-black pixels\n",
    "mask_inv = cv.bitwise_not(mask)\n",
    "\n",
    "# Extract the region of interest (ROI) from the bee image\n",
    "roi = bee_img[y_pos:y_pos + flower_height, x_pos:x_pos + flower_width]\n",
    "\n",
    "# Use the mask to keep only the flower pixels and blend it with the ROI\n",
    "roi_result = cv.bitwise_and(roi, roi, mask=mask_inv)\n",
    "flower_result = cv.bitwise_and(flower_img, flower_img, mask=mask)\n",
    "result = cv.add(roi_result, flower_result)\n",
    "\n",
    "# Place the modified ROI back into the original bee image\n",
    "bee_img[y_pos:y_pos + flower_height, x_pos:x_pos + flower_width] = result\n",
    "\n",
    "show_img(\"result\",bee_img)"
   ]
  },
  {
   "cell_type": "markdown",
   "id": "4668264a",
   "metadata": {},
   "source": [
    "## Exercise 3"
   ]
  },
  {
   "cell_type": "code",
   "execution_count": 51,
   "id": "f330f3ad",
   "metadata": {},
   "outputs": [],
   "source": [
    "kernel3 = np.array([[0,-1,0], [-1,5,-1], [0,-1,0]])\n",
    "kernel5 = np.full((5,5), -1)\n",
    "kernel5[3,3] = 25\n",
    "\n",
    "img = cv.imread(\"images/native-bee.png\")\n",
    "dst3 = cv.filter2D(img, -1, kernel3)\n",
    "dst5 = cv.filter2D(img, -1, kernel5)\n",
    "\n",
    "cv.imshow(\"orginal\", img)\n",
    "cv.imshow(\"3x3 kernel\", dst3)\n",
    "show_img(\"5x5 kernel\", dst5)"
   ]
  },
  {
   "cell_type": "markdown",
   "id": "ca545ea3",
   "metadata": {},
   "source": [
    "## Exercise 4"
   ]
  },
  {
   "cell_type": "code",
   "execution_count": 55,
   "id": "12d8a1db",
   "metadata": {},
   "outputs": [],
   "source": [
    "img = cv.imread(\"images/noise_lena.jpg\")\n",
    "\n",
    "#average filter (cv.blur)\n",
    "avg = cv.blur(img, (5, 5))\n",
    "\n",
    "#Gaussian kernel => almost same as avg filter, blur effect more satisfactory\n",
    "gaussian = cv.GaussianBlur(img, (5,5), 0)\n",
    "\n",
    "#Median filter => good for removing salt and pepper noise\n",
    "median = cv.medianBlur(img, 5)\n",
    "\n",
    "cv.imshow(\"original\", img)\n",
    "cv.imshow(\"average\", avg)\n",
    "cv.imshow(\"gaussian\", gaussian)\n",
    "show_img(\"median\", median)"
   ]
  }
 ],
 "metadata": {
  "kernelspec": {
   "display_name": "Python 3 (ipykernel)",
   "language": "python",
   "name": "python3"
  },
  "language_info": {
   "codemirror_mode": {
    "name": "ipython",
    "version": 3
   },
   "file_extension": ".py",
   "mimetype": "text/x-python",
   "name": "python",
   "nbconvert_exporter": "python",
   "pygments_lexer": "ipython3",
   "version": "3.9.12"
  }
 },
 "nbformat": 4,
 "nbformat_minor": 5
}
