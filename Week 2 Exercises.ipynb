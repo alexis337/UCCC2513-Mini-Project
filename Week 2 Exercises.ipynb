{
 "cells": [
  {
   "cell_type": "markdown",
   "id": "283028d8",
   "metadata": {},
   "source": [
    "## Exercise 3"
   ]
  },
  {
   "cell_type": "code",
   "execution_count": 1,
   "id": "fb460bf4",
   "metadata": {},
   "outputs": [
    {
     "name": "stdout",
     "output_type": "stream",
     "text": [
      "[0 1 2 3 4 5 6 7 8 9]\n",
      "[ 0  1  2  3 25 25 25  7  8  9]\n",
      "[-1 25 25]\n",
      "[ 0  1  2  3 25 25 25  7  8  9]\n"
     ]
    }
   ],
   "source": [
    "import numpy as np\n",
    "import matplotlib.pyplot as plt\n",
    "\n",
    "#Exercise 3 \n",
    "#what do you notice?: changing the first element in arr_slice to -1 will also change the value in my_arr (original array)\n",
    "my_arr = np.arange (10)\n",
    "print (my_arr)\n",
    "my_arr[4:7] = 25\n",
    "print (my_arr)\n",
    "\n",
    "#assign arr_slice with a copy of my_arr \n",
    "arr_slice = np.copy(my_arr[4:7])\n",
    "\n",
    "# Change the first element of arr_slice to -1\n",
    "arr_slice[0]= -1\n",
    "\n",
    "print(arr_slice)\n",
    "print (my_arr)\n"
   ]
  },
  {
   "cell_type": "markdown",
   "id": "b3770af6",
   "metadata": {},
   "source": [
    "## Exercise 4"
   ]
  },
  {
   "cell_type": "code",
   "execution_count": 2,
   "id": "3985327c",
   "metadata": {},
   "outputs": [
    {
     "data": {
      "image/png": "[encoded data removed]",
      "text/plain": [
       "<Figure size 432x288 with 1 Axes>"
      ]
     },
     "metadata": {},
     "output_type": "display_data"
    }
   ],
   "source": [
    "# set background colour to black\n",
    "black_bg = np.zeros((200, 200))\n",
    "\n",
    "#set radius\n",
    "radius = 25\n",
    "\n",
    "# create open grid to act on specific pixels\n",
    "y, x = np.ogrid[:200, :200]\n",
    "# euclidean distance \n",
    "dist_from_center = (x - 100) ** 2 + (y - 100) ** 2 #center x & y: 200/2 = 100\n",
    "#create circular mask\n",
    "mask = dist_from_center <= radius ** 2 #set all pixels within boudary to true\n",
    "\n",
    "#set circle(true) to white\n",
    "black_bg[mask] = 255  \n",
    "\n",
    "# Display image\n",
    "plt.imshow(black_bg, cmap='gray')\n",
    "plt.xticks([]), plt.yticks([])\n",
    "plt.show()\n"
   ]
  }
 ],
 "metadata": {
  "kernelspec": {
   "display_name": "Python 3 (ipykernel)",
   "language": "python",
   "name": "python3"
  },
  "language_info": {
   "codemirror_mode": {
    "name": "ipython",
    "version": 3
   },
   "file_extension": ".py",
   "mimetype": "text/x-python",
   "name": "python",
   "nbconvert_exporter": "python",
   "pygments_lexer": "ipython3",
   "version": "3.9.12"
  }
 },
 "nbformat": 4,
 "nbformat_minor": 5
}
